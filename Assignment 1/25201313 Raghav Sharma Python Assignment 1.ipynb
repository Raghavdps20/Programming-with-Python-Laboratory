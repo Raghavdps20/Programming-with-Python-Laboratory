{
 "cells": [
  {
   "cell_type": "markdown",
   "id": "6378cbe2-9917-4d6b-8d0e-a17face831d3",
   "metadata": {},
   "source": [
    "Q1) Write a Python program to get a list, sorted in increasing order by the last element in\n",
    "each tuple from a given list of non-empty tuples.\n",
    "Sample List : [(2, 5), (1, 2), (4, 4), (2, 3), (2, 1)]"
   ]
  },
  {
   "cell_type": "code",
   "execution_count": 1,
   "id": "ea9e1a1d-f095-422e-a8a9-840c73e82030",
   "metadata": {},
   "outputs": [
    {
     "name": "stdout",
     "output_type": "stream",
     "text": [
      "The sorrted List :  [(2, 1), (1, 2), (2, 3), (4, 4), (2, 5)]\n"
     ]
    }
   ],
   "source": [
    "l = [(2, 5), (1, 2), (4, 4), (2, 3), (2, 1)]\n",
    "print(\"The sorrted List : \", sorted(l, key = lambda x : x[-1]))"
   ]
  },
  {
   "cell_type": "markdown",
   "id": "1330e719-1793-493b-a621-1d2e35a877f5",
   "metadata": {},
   "source": [
    "Q2) Write a Python program to get a string from a given string where all occurrences of its\n",
    "first char have been changed to &#39;$&#39;, except the first char itself. Sample String : &#39;restart&#39;"
   ]
  },
  {
   "cell_type": "code",
   "execution_count": 2,
   "id": "131620d1-0d09-4eab-bb8e-4b6c6e6fa3ab",
   "metadata": {},
   "outputs": [
    {
     "name": "stdout",
     "output_type": "stream",
     "text": [
      "resta$t\n"
     ]
    }
   ],
   "source": [
    "def replacechar(s):\n",
    "    c = s[0]\n",
    "    s = s.replace(c, '$')\n",
    "    s = c + s[1:]\n",
    "    return s\n",
    "\n",
    "str = \"restart\"\n",
    "\n",
    "print(replacechar(str))"
   ]
  },
  {
   "cell_type": "markdown",
   "id": "56cb6750-9046-42d5-853b-29ba1a39f1d3",
   "metadata": {},
   "source": [
    "Q3) Write a Python program to find the first appearance of the substring &#39;not&#39; and &#39;poor&#39; from\n",
    "a given string, if &#39;bad&#39; follows the &#39;poor&#39;, replace the whole &#39;not&#39;...&#39;poor&#39; substring with &#39;good&#39;.\n",
    "Return the resulting string."
   ]
  },
  {
   "cell_type": "code",
   "execution_count": 3,
   "id": "c7b149ba-8f38-46de-8716-71900ae5bc7b",
   "metadata": {},
   "outputs": [
    {
     "name": "stdout",
     "output_type": "stream",
     "text": [
      "The lyrics is good!\n",
      "The lyrics is poor!\n"
     ]
    }
   ],
   "source": [
    "def not_poor(text):\n",
    "    index_not = text.find('not')\n",
    "    index_poor = text.find('poor')\n",
    "\n",
    "    if index_poor > index_not and index_not > 0 and index_poor > 0:\n",
    "        text = text.replace(text[index_not:(index_poor+4)], 'good')\n",
    "        return text\n",
    "    else:\n",
    "        return text\n",
    "\n",
    "print(not_poor('The lyrics is not that poor!'))\n",
    "print(not_poor('The lyrics is poor!'))"
   ]
  },
  {
   "cell_type": "markdown",
   "id": "9b2e5bdc-5061-468f-bf19-fedf075ee617",
   "metadata": {},
   "source": [
    "Q4) Write a python program to sort a dictionary by value."
   ]
  },
  {
   "cell_type": "code",
   "execution_count": 4,
   "id": "70f6c721-22d5-4266-b8ae-af9bdc6abe75",
   "metadata": {},
   "outputs": [
    {
     "name": "stdout",
     "output_type": "stream",
     "text": [
      "The sorrted Dict :  [('b', 2), ('d', 7), ('a', 10), ('c', 25)]\n"
     ]
    }
   ],
   "source": [
    "my_dict = {'a': 10, 'b': 2, 'c': 25, 'd': 7}\n",
    "print(\"The sorrted Dict : \", sorted(my_dict.items(), key = lambda x : x[-1]))"
   ]
  },
  {
   "cell_type": "markdown",
   "id": "65809293-236e-4b88-8963-ffedbe4c7fd2",
   "metadata": {},
   "source": [
    "Q5) Write a python program to add key to a dictionary."
   ]
  },
  {
   "cell_type": "code",
   "execution_count": 5,
   "id": "bf11ab10-7763-436d-8650-a02f0abe4341",
   "metadata": {},
   "outputs": [
    {
     "name": "stdin",
     "output_type": "stream",
     "text": [
      "Enter the key:  3\n",
      "Enter the value:  42\n"
     ]
    },
    {
     "name": "stdout",
     "output_type": "stream",
     "text": [
      "Updated dictionary: {0: 10, 1: 20, 3: 42}\n"
     ]
    }
   ],
   "source": [
    "my_dict = {0: 10, 1: 20}\n",
    "\n",
    "key = input(\"Enter the key: \")\n",
    "value = input(\"Enter the value: \")\n",
    "\n",
    "if key.isdigit():\n",
    "    key = int(key)\n",
    "\n",
    "if value.isdigit():\n",
    "    value = int(value)\n",
    "\n",
    "my_dict[key] = value\n",
    "\n",
    "print(\"Updated dictionary:\", my_dict)"
   ]
  },
  {
   "cell_type": "code",
   "execution_count": null,
   "id": "aedfcc32-d9d4-4c45-8ba4-9c828100e332",
   "metadata": {},
   "outputs": [],
   "source": []
  },
  {
   "cell_type": "code",
   "execution_count": null,
   "id": "f7c79a00-b1ca-4e3f-b927-0c846e38d97c",
   "metadata": {},
   "outputs": [],
   "source": []
  }
 ],
 "metadata": {
  "kernelspec": {
   "display_name": "Python [conda env:base] *",
   "language": "python",
   "name": "conda-base-py"
  },
  "language_info": {
   "codemirror_mode": {
    "name": "ipython",
    "version": 3
   },
   "file_extension": ".py",
   "mimetype": "text/x-python",
   "name": "python",
   "nbconvert_exporter": "python",
   "pygments_lexer": "ipython3",
   "version": "3.13.5"
  }
 },
 "nbformat": 4,
 "nbformat_minor": 5
}
