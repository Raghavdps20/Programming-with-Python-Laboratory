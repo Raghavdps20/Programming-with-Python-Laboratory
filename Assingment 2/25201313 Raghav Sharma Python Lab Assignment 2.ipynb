{
 "cells": [
  {
   "cell_type": "markdown",
   "id": "929ed42d-a5b0-40e5-890c-c0100904ca98",
   "metadata": {},
   "source": [
    "1. Positive or Negative\n",
    "Write a program to check whether a given number is positive, negative, or zero. (2)"
   ]
  },
  {
   "cell_type": "code",
   "execution_count": 1,
   "id": "6e52c8f5-b1e1-4327-bf1b-ba8d7761c3ca",
   "metadata": {},
   "outputs": [
    {
     "name": "stdin",
     "output_type": "stream",
     "text": [
      "Enter a number:  13\n"
     ]
    },
    {
     "name": "stdout",
     "output_type": "stream",
     "text": [
      "The number is Positive\n"
     ]
    }
   ],
   "source": [
    "num = int(input(\"Enter a number: \"))\n",
    "\n",
    "if num > 0:\n",
    "    print(\"The number is Positive\")\n",
    "elif num < 0:\n",
    "    print(\"The number is Negative\")\n",
    "else:\n",
    "    print(\"The number is Zero\")"
   ]
  },
  {
   "cell_type": "markdown",
   "id": "4a75ffe8-8547-44d2-ac28-1ec758789081",
   "metadata": {},
   "source": [
    "2. Even or Odd\n",
    "Write a program to check whether a given integer is even or odd. (2)"
   ]
  },
  {
   "cell_type": "code",
   "execution_count": 2,
   "id": "ecccefe5-ed89-4207-bcd8-2f9bd5e24cf8",
   "metadata": {},
   "outputs": [
    {
     "name": "stdin",
     "output_type": "stream",
     "text": [
      "Enter num:  34\n"
     ]
    },
    {
     "name": "stdout",
     "output_type": "stream",
     "text": [
      "The number is Even\n"
     ]
    }
   ],
   "source": [
    "num = int(input(\"Enter num: \"))\n",
    "\n",
    "if num % 2 == 0:\n",
    "    print(\"The number is Even\")\n",
    "else:\n",
    "    print(\"The number is Odd\")"
   ]
  },
  {
   "cell_type": "markdown",
   "id": "4c842fb8-0bf3-4c90-8bb6-4e5dcb49fa16",
   "metadata": {},
   "source": [
    "3. Largest of Two Numbers\n",
    "Write a program to input two numbers and print which one is larger. (2)"
   ]
  },
  {
   "cell_type": "code",
   "execution_count": 5,
   "id": "1530365c-0190-4123-ac76-0a6b3f2167ff",
   "metadata": {},
   "outputs": [
    {
     "name": "stdin",
     "output_type": "stream",
     "text": [
      "Enter num1:  34\n",
      "Enter num2:  21\n"
     ]
    },
    {
     "name": "stdout",
     "output_type": "stream",
     "text": [
      "Num1 is larger\n"
     ]
    }
   ],
   "source": [
    "a = int(input(\"Enter num1: \"))\n",
    "b = int(input(\"Enter num2: \"))\n",
    "\n",
    "if a > b:\n",
    "    print(\"Num1 is larger\")\n",
    "elif b > a:\n",
    "    print(\"Num2 is larger\")\n",
    "else:\n",
    "    print(\"Both are equal\")"
   ]
  },
  {
   "cell_type": "markdown",
   "id": "959040f5-ded3-453b-9a02-456efb9dc5aa",
   "metadata": {},
   "source": [
    "4. Absolute Value\n",
    "Write a program to find the absolute value of a given number without using the abs()\n",
    "function."
   ]
  },
  {
   "cell_type": "code",
   "execution_count": 6,
   "id": "967b7d89-fdd7-49e8-974d-8b0d962a3960",
   "metadata": {},
   "outputs": [
    {
     "name": "stdin",
     "output_type": "stream",
     "text": [
      "Enter num:  -312\n"
     ]
    },
    {
     "name": "stdout",
     "output_type": "stream",
     "text": [
      "Absolute value is: 312\n"
     ]
    }
   ],
   "source": [
    "num = int(input(\"Enter num: \"))\n",
    "\n",
    "if num < 0:\n",
    "    print(\"Absolute value is:\", -num)\n",
    "else:\n",
    "    print(\"Absolute value is:\", num)"
   ]
  },
  {
   "cell_type": "markdown",
   "id": "c7804733-4350-41a9-bed1-c1130d17cb38",
   "metadata": {},
   "source": [
    "5. Eligibility for Voting\n",
    "Write a program to check whether a person is eligible to vote or not. (A person is\n",
    "eligible if their age is 18 or above)."
   ]
  },
  {
   "cell_type": "code",
   "execution_count": 7,
   "id": "0256a303-b895-4e0d-96cf-ca50163191e1",
   "metadata": {},
   "outputs": [
    {
     "name": "stdin",
     "output_type": "stream",
     "text": [
      "Enter age:  12\n"
     ]
    },
    {
     "name": "stdout",
     "output_type": "stream",
     "text": [
      "Not Eligible\n"
     ]
    }
   ],
   "source": [
    "age = int(input(\"Enter age: \"))\n",
    "\n",
    "if age >= 18:\n",
    "    print(\"Eligible\")\n",
    "else:\n",
    "    print(\"Not Eligible\")"
   ]
  },
  {
   "cell_type": "markdown",
   "id": "355fc0ea-e5ee-4a80-a3b6-2e35af37a78b",
   "metadata": {},
   "source": [
    "6. Leap Year Check\n",
    "Write a program to check whether a given year is a leap year or not. (Hint: A leap year is\n",
    "divisible by 4, but not by 100 unless also divisible by 400)."
   ]
  },
  {
   "cell_type": "code",
   "execution_count": 10,
   "id": "7bb205d5-3807-4528-8047-64df7f3784c5",
   "metadata": {},
   "outputs": [
    {
     "name": "stdin",
     "output_type": "stream",
     "text": [
      "\n",
      "Enter a year:  2012\n"
     ]
    },
    {
     "name": "stdout",
     "output_type": "stream",
     "text": [
      "Leap Year\n"
     ]
    }
   ],
   "source": [
    "year = int(input(\"\\nEnter a year: \"))\n",
    "\n",
    "if (year % 400 == 0):\n",
    "    print(\"Leap Year\")\n",
    "elif (year % 100 == 0):\n",
    "    print(\"Not a Leap Year\")\n",
    "elif (year % 4 == 0):\n",
    "    print(\"Leap Year\")\n",
    "else:\n",
    "    print(\"Not a Leap Year\")"
   ]
  },
  {
   "cell_type": "markdown",
   "id": "4b2ca3d8-b716-477f-a75b-c9f9beb65f2d",
   "metadata": {},
   "source": [
    "7. Grade Calculation\n",
    "Write a program that takes marks as input and prints:\n",
    "- 'Pass' if marks are 40 or above\n",
    "- 'Fail' if marks are less than 40"
   ]
  },
  {
   "cell_type": "code",
   "execution_count": 11,
   "id": "14c8db6d-a73c-4177-8d09-ec1a616f5ea4",
   "metadata": {},
   "outputs": [
    {
     "name": "stdin",
     "output_type": "stream",
     "text": [
      "Enter marks:  43\n"
     ]
    },
    {
     "name": "stdout",
     "output_type": "stream",
     "text": [
      "Pass\n"
     ]
    }
   ],
   "source": [
    "marks = int(input(\"Enter marks: \"))\n",
    "\n",
    "if marks >= 40:\n",
    "    print(\"Pass\")\n",
    "else:\n",
    "    print(\"Fail\")"
   ]
  },
  {
   "cell_type": "markdown",
   "id": "9624c785-d8f3-455c-b4c6-1b72e5fc2dbb",
   "metadata": {},
   "source": [
    "8. Multiple of 5\n",
    "Write a program to check whether a given number is a multiple of 5."
   ]
  },
  {
   "cell_type": "code",
   "execution_count": 12,
   "id": "07b8acef-233f-43bc-9443-c30479cb26c1",
   "metadata": {},
   "outputs": [
    {
     "name": "stdin",
     "output_type": "stream",
     "text": [
      "Enter a number:  25\n"
     ]
    },
    {
     "name": "stdout",
     "output_type": "stream",
     "text": [
      "The number is a Multiple of 5\n"
     ]
    }
   ],
   "source": [
    "num = int(input(\"Enter a number: \"))\n",
    "\n",
    "if num % 5 == 0:\n",
    "    print(\"The number is a Multiple of 5\")\n",
    "else:\n",
    "    print(\"The number is NOT a Multiple of 5\")\n"
   ]
  },
  {
   "cell_type": "markdown",
   "id": "5f3ce24e-99ad-4aaf-bb04-329e060fe2e2",
   "metadata": {},
   "source": [
    "9. Character Case Check\n",
    "Write a program to input a character and check whether it is an uppercase letter,\n",
    "lowercase letter, or not a letter."
   ]
  },
  {
   "cell_type": "code",
   "execution_count": 13,
   "id": "da393cfa-8ef9-4432-b99d-3bc421724058",
   "metadata": {},
   "outputs": [
    {
     "name": "stdin",
     "output_type": "stream",
     "text": [
      "Enter a character:  r\n"
     ]
    },
    {
     "name": "stdout",
     "output_type": "stream",
     "text": [
      "Lowercase Letter\n"
     ]
    }
   ],
   "source": [
    "ch = input(\"Enter a character: \")\n",
    "\n",
    "if ch >= 'A' and ch <= 'Z':\n",
    "    print(\"Uppercase Letter\")\n",
    "    \n",
    "elif ch >= 'a' and ch <= 'z':\n",
    "    print(\"Lowercase Letter\")\n",
    "    \n",
    "else:\n",
    "    print(\"Not a Letter\")"
   ]
  },
  {
   "cell_type": "markdown",
   "id": "e08a086a-9664-4042-953e-23947da9650c",
   "metadata": {},
   "source": [
    "10. Discount Calculator\n",
    "Write a program that calculates the discount:"
   ]
  },
  {
   "cell_type": "code",
   "execution_count": 15,
   "id": "9c5f88ed-4cb4-41e3-8243-93397f2fb315",
   "metadata": {},
   "outputs": [
    {
     "name": "stdin",
     "output_type": "stream",
     "text": [
      "Enter purchase amount:  1999\n"
     ]
    },
    {
     "name": "stdout",
     "output_type": "stream",
     "text": [
      "Final Bill: 1799.1000000000001\n"
     ]
    }
   ],
   "source": [
    "amount = float(input(\"Enter purchase amount: \"))\n",
    "\n",
    "if amount >= 1000:\n",
    "\n",
    "    print(\"Final Bill:\", amount * 0.9)\n",
    "else:\n",
    "    print(\"Final Bill:\", amount)"
   ]
  },
  {
   "cell_type": "code",
   "execution_count": null,
   "id": "0aafd8b1-5bc7-4342-bbb6-98830ba59e05",
   "metadata": {},
   "outputs": [],
   "source": []
  }
 ],
 "metadata": {
  "kernelspec": {
   "display_name": "Python [conda env:base] *",
   "language": "python",
   "name": "conda-base-py"
  },
  "language_info": {
   "codemirror_mode": {
    "name": "ipython",
    "version": 3
   },
   "file_extension": ".py",
   "mimetype": "text/x-python",
   "name": "python",
   "nbconvert_exporter": "python",
   "pygments_lexer": "ipython3",
   "version": "3.13.5"
  }
 },
 "nbformat": 4,
 "nbformat_minor": 5
}
